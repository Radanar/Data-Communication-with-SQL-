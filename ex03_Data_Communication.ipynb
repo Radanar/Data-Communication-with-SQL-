{
  "nbformat": 4,
  "nbformat_minor": 0,
  "metadata": {
    "colab": {
      "provenance": [],
      "authorship_tag": "ABX9TyPPMzeFdWhTA2bohU+ysgH4",
      "include_colab_link": true
    },
    "kernelspec": {
      "name": "python3",
      "display_name": "Python 3"
    },
    "language_info": {
      "name": "python"
    }
  },
  "cells": [
    {
      "cell_type": "markdown",
      "metadata": {
        "id": "view-in-github",
        "colab_type": "text"
      },
      "source": [
        "<a href=\"https://colab.research.google.com/github/Radanar/Data-Communication-with-SQL-/blob/main/ex03_Data_Communication.ipynb\" target=\"_parent\"><img src=\"https://colab.research.google.com/assets/colab-badge.svg\" alt=\"Open In Colab\"/></a>"
      ]
    },
    {
      "cell_type": "markdown",
      "source": [
        "Data Frame in Pandas Library"
      ],
      "metadata": {
        "id": "JgdewaFd0CAs"
      }
    },
    {
      "cell_type": "code",
      "execution_count": null,
      "metadata": {
        "colab": {
          "base_uri": "https://localhost:8080/"
        },
        "id": "kUwXf44CvYIQ",
        "outputId": "c5b3d64c-78c6-46c3-a36b-393b75cfb09d"
      },
      "outputs": [
        {
          "output_type": "stream",
          "name": "stdout",
          "text": [
            "    0\n",
            "0   5\n",
            "1   7\n",
            "2   8\n",
            "3   9\n",
            "4  10\n"
          ]
        }
      ],
      "source": [
        "#Creating an empty data frame\n",
        "\n",
        "import pandas as pd\n",
        "\n",
        "data1 = [5,7,8,9,10]\n",
        "df = pd.DataFrame(data1)\n",
        "print(df)"
      ]
    },
    {
      "cell_type": "code",
      "source": [
        "#Creating an array or a list\n",
        "\n",
        "data2 = [['Alex',10], ['Bob',12],['Cleark',13]]\n",
        "print(data2)"
      ],
      "metadata": {
        "colab": {
          "base_uri": "https://localhost:8080/"
        },
        "id": "uw_FWsxpxEnQ",
        "outputId": "8203b654-103e-431b-b8e5-4dba27c9ae5e"
      },
      "execution_count": null,
      "outputs": [
        {
          "output_type": "stream",
          "name": "stdout",
          "text": [
            "[['Alex', 10], ['Bob', 12], ['Cleark', 13]]\n"
          ]
        }
      ]
    },
    {
      "cell_type": "code",
      "source": [
        "#Adding the list data into data frame\n",
        "\n",
        "df2 = pd.DataFrame(data2)\n",
        "print(df2)"
      ],
      "metadata": {
        "colab": {
          "base_uri": "https://localhost:8080/"
        },
        "id": "OLelgkszxvaZ",
        "outputId": "651d150c-ac79-441d-f854-dc7d2fb5fc6b"
      },
      "execution_count": null,
      "outputs": [
        {
          "output_type": "stream",
          "name": "stdout",
          "text": [
            "        0   1\n",
            "0    Alex  10\n",
            "1     Bob  12\n",
            "2  Cleark  13\n"
          ]
        }
      ]
    },
    {
      "cell_type": "code",
      "source": [
        "#Changing the row and column names\n",
        "\n",
        "df2 = pd.DataFrame(data2, index=['rank1', 'rank2','rank3'],columns=[\"Name\", \"Age\"])\n",
        "print(df2)"
      ],
      "metadata": {
        "colab": {
          "base_uri": "https://localhost:8080/"
        },
        "id": "cXZdMbVRyNpv",
        "outputId": "9633bef3-1920-4571-fccf-df6fa2def5fe"
      },
      "execution_count": null,
      "outputs": [
        {
          "output_type": "stream",
          "name": "stdout",
          "text": [
            "         Name  Age\n",
            "rank1    Alex   10\n",
            "rank2     Bob   12\n",
            "rank3  Cleark   13\n"
          ]
        }
      ]
    },
    {
      "cell_type": "code",
      "source": [
        "#Adding or deleting the columns and rows"
      ],
      "metadata": {
        "id": "16RdgBr92b80"
      },
      "execution_count": null,
      "outputs": []
    }
  ]
}